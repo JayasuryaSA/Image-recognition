{
 "cells": [
  {
   "cell_type": "code",
   "execution_count": null,
   "id": "67911759",
   "metadata": {},
   "outputs": [],
   "source": [
    "import cv2\n",
    "image=cv2.imread(\"train/DOGS/dog3.jpg\")\n",
    "cv2.imshow(\"OUTPUT\",image)\n",
    "cv2.waitKey()"
   ]
  },
  {
   "cell_type": "code",
   "execution_count": null,
   "id": "3a97052a",
   "metadata": {},
   "outputs": [],
   "source": [
    "grayimage1=cv2.cvtColor(image,cv2.COLOR_BGR2GRAY)\n",
    "cv2.imshow(\"GRAYSCALE OUTPUT\", grayimage1)\n",
    "cv2.waitKey()"
   ]
  },
  {
   "cell_type": "code",
   "execution_count": null,
   "id": "add77da1",
   "metadata": {},
   "outputs": [],
   "source": [
    "import cv2\n",
    "import numpy as np\n",
    "image2=cv2.imread(\"train/DOGS/dog47.jpg\")\n",
    "blurred_image=cv2.medianBlur(image2, 5)\n",
    "output=np.hstack((image2, blurred_image))\n",
    "cv2.imshow(\"Original vs Blurred\", output)\n",
    "cv2.waitKey(0)"
   ]
  },
  {
   "cell_type": "code",
   "execution_count": null,
   "id": "06af4e1f",
   "metadata": {},
   "outputs": [],
   "source": [
    "import numpy as np\n",
    "import cv2\n",
    "from skimage.io import imread\n",
    "from skimage.feature import greycomatrix, greycoprops\n",
    "image=cv2.imread('train/DOGS/dog47.jpg')\n",
    "im = cv2.cvtColor(image, cv2.COLOR_BGR2GRAY)\n",
    "g= greycomatrix (im, [0, 1], [0, np. pi/2], levels=256)\n",
    "contrast= greycoprops(g, 'contrast')\n",
    "print('contrast is:', contrast)\n",
    "energy = greycoprops(g, 'energy')\n",
    "print ('energy is: ', energy)\n",
    "homogeneity= greycoprops (g, 'homogeneity')\n",
    "print('homogeneity is: ', homogeneity)\n",
    "correlation = greycoprops (g, 'correlation')\n",
    "print('correlation is:', correlation)\n",
    "dissimilarity = greycoprops (g, 'dissimilarity')\n",
    "print('dissimilarity is:', dissimilarity)\n",
    "ASM = greycoprops (g, 'ASM')\n",
    "print('ASM is:', ASM)"
   ]
  },
  {
   "cell_type": "code",
   "execution_count": null,
   "id": "511adba8",
   "metadata": {},
   "outputs": [],
   "source": [
    "from tensorflow.keras.applications import VGG16\n",
    "from tensorflow.keras.applicatuibs.vgg16 import prepocess_input\n",
    "\n",
    "base_model=VGG16(weights='imagenet', include_top=False, pooling='avg')\n",
    "def extract_features(image):\n",
    "    prepocessed_image=prepocess_input(image)\n",
    "    features=base_model.predict(prepocessed_image)\n",
    "    \n",
    "    region_of_interest=0\n",
    "    for region in regions of interest:\n",
    "        region_features.append(extract_features(region))\n",
    "        \n",
    "        for i,features in enumerate(selected_features)features:\n",
    "            print(f\"Region {i+1} Features:\")\n",
    "            print(features)\n",
    "            print()\n",
    "        "
   ]
  },
  {
   "cell_type": "code",
   "execution_count": null,
   "id": "8f624281",
   "metadata": {},
   "outputs": [],
   "source": []
  }
 ],
 "metadata": {
  "kernelspec": {
   "display_name": "Python 3 (ipykernel)",
   "language": "python",
   "name": "python3"
  },
  "language_info": {
   "codemirror_mode": {
    "name": "ipython",
    "version": 3
   },
   "file_extension": ".py",
   "mimetype": "text/x-python",
   "name": "python",
   "nbconvert_exporter": "python",
   "pygments_lexer": "ipython3",
   "version": "3.10.9"
  }
 },
 "nbformat": 4,
 "nbformat_minor": 5
}
